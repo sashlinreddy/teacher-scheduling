{
 "cells": [
  {
   "cell_type": "markdown",
   "id": "60b460e9-8cc2-4ada-8a70-a2c56bd36247",
   "metadata": {},
   "source": [
    "# Teacher scheduling with PuLP\n",
    "\n",
    "This is an example notebook on how to solve the teacher scheduling problem with Linear Programming in Python using PuLP. Different algorithms to follow."
   ]
  },
  {
   "cell_type": "markdown",
   "id": "b978e8c9-63ae-4b40-80c1-f3ab33e06ade",
   "metadata": {},
   "source": [
    "## Imports"
   ]
  },
  {
   "cell_type": "code",
   "execution_count": 1,
   "id": "f8b1834e-0fe9-4a6a-9c8a-702d0a112017",
   "metadata": {
    "tags": []
   },
   "outputs": [],
   "source": [
    "import pulp"
   ]
  },
  {
   "cell_type": "markdown",
   "id": "a8c1d19b-751d-48e5-aa52-bba9263efb05",
   "metadata": {},
   "source": [
    "## Create the problem"
   ]
  },
  {
   "cell_type": "code",
   "execution_count": 216,
   "id": "2a33ef88-5411-4f78-a816-d51b0c9d167e",
   "metadata": {
    "tags": []
   },
   "outputs": [],
   "source": [
    "# Create the LP problem\n",
    "teacher_schedule = pulp.LpProblem(\"Teacher_Schedule\", pulp.LpMinimize)"
   ]
  },
  {
   "cell_type": "markdown",
   "id": "5d32d297-765f-4533-b690-4e1ea70c8545",
   "metadata": {},
   "source": [
    "## Define decision variables"
   ]
  },
  {
   "cell_type": "code",
   "execution_count": 217,
   "id": "76f455ce-ff1d-4550-b2e1-82f318380f19",
   "metadata": {
    "tags": []
   },
   "outputs": [],
   "source": [
    "# Define the decision variables\n",
    "# For simplicity, let's assume you have 3 teachers (T1, T2, T3), 2 classes (C1, C2), and 2 time slots (M1, M2).\n",
    "teachers = ['T1', 'T2', 'T3']\n",
    "classes = ['C1', 'C2']\n",
    "time_slots = ['M1', 'M2', 'M3', 'M4']"
   ]
  },
  {
   "cell_type": "code",
   "execution_count": 218,
   "id": "aa52b3d9-9cf6-4c26-866e-c2913038a1b5",
   "metadata": {},
   "outputs": [],
   "source": [
    "# pulp.makeDict()"
   ]
  },
  {
   "cell_type": "code",
   "execution_count": 219,
   "id": "4eeb3bb8-5ff3-4e53-ad03-eb80516e42cb",
   "metadata": {
    "tags": []
   },
   "outputs": [],
   "source": [
    "# Create a binary variable for each teacher, class, and time slot combination\n",
    "# x = pulp.LpVariable.dicts(\"Assignment\", ((teacher, _class, time) for teacher in teachers for _class in classes for time in time_slots), cat='Binary')\n",
    "x = pulp.LpVariable.dicts(\n",
    "    \"Assignment\",\n",
    "    ((teacher, _class, time) for teacher in teachers for _class in classes for time in time_slots),\n",
    "    # lowBound=0,\n",
    "    # upBound=1,\n",
    "    cat=pulp.LpBinary)"
   ]
  },
  {
   "cell_type": "code",
   "execution_count": 220,
   "id": "c1a24ede-2151-41d7-8a16-5488d00327c7",
   "metadata": {
    "tags": []
   },
   "outputs": [
    {
     "data": {
      "text/plain": [
       "1*Assignment_('T1',_'C1',_'M1') + 0 = 0"
      ]
     },
     "execution_count": 220,
     "metadata": {},
     "output_type": "execute_result"
    }
   ],
   "source": [
    "x[('T1', 'C1', 'M1')] == 0"
   ]
  },
  {
   "cell_type": "markdown",
   "id": "7c0931b4-a0cc-406b-855b-fbb51eb2921f",
   "metadata": {},
   "source": [
    "## Define constraints"
   ]
  },
  {
   "cell_type": "code",
   "execution_count": 226,
   "id": "4ee394b0-1df8-47fb-a257-6825d8a2b91d",
   "metadata": {
    "tags": []
   },
   "outputs": [],
   "source": [
    "# Example constraint: Teacher availability\n",
    "# Ensure that each teacher is scheduled only during their available time slots\n",
    "\n",
    "teacher_availability = {\n",
    "    'T1': {'M1', 'M2', 'M3', 'M4'},\n",
    "    'T2': {'M1', 'M2', 'M3', 'M4'},\n",
    "    'T3': {'M1', 'M2', 'M3', 'M4'},\n",
    "}\n",
    "\n",
    "for teacher in teachers:\n",
    "    for time in time_slots:\n",
    "        if time in teacher_availability[teacher]:\n",
    "            for _class in classes:\n",
    "                # If a teacher is available at a specific time, the associated variable must be set to 1 for all classes\n",
    "                teacher_schedule += x[(teacher, _class, time)] == 1\n",
    "            # Example constraint: Teacher exclusivity for time slots\n",
    "\n",
    "# Ensure each class for a teacher can only be taught in one time slot\n",
    "for teacher in teachers:\n",
    "    for _class in classes:\n",
    "        teacher_schedule += pulp.lpSum(x[(teacher, _class, time)] for time in time_slots) <= 1\n",
    "\n",
    "# Ensure that each teacher is assigned to only one class during a specific time slot\n",
    "for teacher in teachers:\n",
    "    for time in time_slots:\n",
    "        teacher_schedule += pulp.lpSum(x[(teacher, _class, time)] for _class in classes) <= 1"
   ]
  },
  {
   "cell_type": "code",
   "execution_count": 222,
   "id": "30af7d03-ae5b-4f56-bfc5-43a8ca53bad6",
   "metadata": {
    "scrolled": true
   },
   "outputs": [
    {
     "data": {
      "text/plain": [
       "Teacher_Schedule:\n",
       "MINIMIZE\n",
       "None\n",
       "SUBJECT TO\n",
       "_C1: Assignment_('T1',_'C1',_'M1') = 1\n",
       "\n",
       "_C2: Assignment_('T1',_'C2',_'M1') = 1\n",
       "\n",
       "_C3: Assignment_('T1',_'C1',_'M2') = 1\n",
       "\n",
       "_C4: Assignment_('T1',_'C2',_'M2') = 1\n",
       "\n",
       "_C5: Assignment_('T1',_'C1',_'M3') = 1\n",
       "\n",
       "_C6: Assignment_('T1',_'C2',_'M3') = 1\n",
       "\n",
       "_C7: Assignment_('T1',_'C1',_'M4') = 1\n",
       "\n",
       "_C8: Assignment_('T1',_'C2',_'M4') = 1\n",
       "\n",
       "_C9: Assignment_('T2',_'C1',_'M1') = 1\n",
       "\n",
       "_C10: Assignment_('T2',_'C2',_'M1') = 1\n",
       "\n",
       "_C11: Assignment_('T2',_'C1',_'M2') = 1\n",
       "\n",
       "_C12: Assignment_('T2',_'C2',_'M2') = 1\n",
       "\n",
       "_C13: Assignment_('T2',_'C1',_'M3') = 1\n",
       "\n",
       "_C14: Assignment_('T2',_'C2',_'M3') = 1\n",
       "\n",
       "_C15: Assignment_('T2',_'C1',_'M4') = 1\n",
       "\n",
       "_C16: Assignment_('T2',_'C2',_'M4') = 1\n",
       "\n",
       "_C17: Assignment_('T3',_'C1',_'M1') = 1\n",
       "\n",
       "_C18: Assignment_('T3',_'C2',_'M1') = 1\n",
       "\n",
       "_C19: Assignment_('T3',_'C1',_'M2') = 1\n",
       "\n",
       "_C20: Assignment_('T3',_'C2',_'M2') = 1\n",
       "\n",
       "_C21: Assignment_('T3',_'C1',_'M3') = 1\n",
       "\n",
       "_C22: Assignment_('T3',_'C2',_'M3') = 1\n",
       "\n",
       "_C23: Assignment_('T3',_'C1',_'M4') = 1\n",
       "\n",
       "_C24: Assignment_('T3',_'C2',_'M4') = 1\n",
       "\n",
       "_C25: Assignment_('T1',_'C1',_'M1') + Assignment_('T1',_'C1',_'M2')\n",
       " + Assignment_('T1',_'C1',_'M3') + Assignment_('T1',_'C1',_'M4') <= 1\n",
       "\n",
       "_C26: Assignment_('T1',_'C2',_'M1') + Assignment_('T1',_'C2',_'M2')\n",
       " + Assignment_('T1',_'C2',_'M3') + Assignment_('T1',_'C2',_'M4') <= 1\n",
       "\n",
       "_C27: Assignment_('T2',_'C1',_'M1') + Assignment_('T2',_'C1',_'M2')\n",
       " + Assignment_('T2',_'C1',_'M3') + Assignment_('T2',_'C1',_'M4') <= 1\n",
       "\n",
       "_C28: Assignment_('T2',_'C2',_'M1') + Assignment_('T2',_'C2',_'M2')\n",
       " + Assignment_('T2',_'C2',_'M3') + Assignment_('T2',_'C2',_'M4') <= 1\n",
       "\n",
       "_C29: Assignment_('T3',_'C1',_'M1') + Assignment_('T3',_'C1',_'M2')\n",
       " + Assignment_('T3',_'C1',_'M3') + Assignment_('T3',_'C1',_'M4') <= 1\n",
       "\n",
       "_C30: Assignment_('T3',_'C2',_'M1') + Assignment_('T3',_'C2',_'M2')\n",
       " + Assignment_('T3',_'C2',_'M3') + Assignment_('T3',_'C2',_'M4') <= 1\n",
       "\n",
       "_C31: Assignment_('T1',_'C1',_'M1') + Assignment_('T1',_'C2',_'M1') <= 1\n",
       "\n",
       "_C32: Assignment_('T1',_'C1',_'M2') + Assignment_('T1',_'C2',_'M2') <= 1\n",
       "\n",
       "_C33: Assignment_('T1',_'C1',_'M3') + Assignment_('T1',_'C2',_'M3') <= 1\n",
       "\n",
       "_C34: Assignment_('T1',_'C1',_'M4') + Assignment_('T1',_'C2',_'M4') <= 1\n",
       "\n",
       "_C35: Assignment_('T2',_'C1',_'M1') + Assignment_('T2',_'C2',_'M1') <= 1\n",
       "\n",
       "_C36: Assignment_('T2',_'C1',_'M2') + Assignment_('T2',_'C2',_'M2') <= 1\n",
       "\n",
       "_C37: Assignment_('T2',_'C1',_'M3') + Assignment_('T2',_'C2',_'M3') <= 1\n",
       "\n",
       "_C38: Assignment_('T2',_'C1',_'M4') + Assignment_('T2',_'C2',_'M4') <= 1\n",
       "\n",
       "_C39: Assignment_('T3',_'C1',_'M1') + Assignment_('T3',_'C2',_'M1') <= 1\n",
       "\n",
       "_C40: Assignment_('T3',_'C1',_'M2') + Assignment_('T3',_'C2',_'M2') <= 1\n",
       "\n",
       "_C41: Assignment_('T3',_'C1',_'M3') + Assignment_('T3',_'C2',_'M3') <= 1\n",
       "\n",
       "_C42: Assignment_('T3',_'C1',_'M4') + Assignment_('T3',_'C2',_'M4') <= 1\n",
       "\n",
       "VARIABLES\n",
       "0 <= Assignment_('T1',_'C1',_'M1') <= 1 Integer\n",
       "0 <= Assignment_('T1',_'C1',_'M2') <= 1 Integer\n",
       "0 <= Assignment_('T1',_'C1',_'M3') <= 1 Integer\n",
       "0 <= Assignment_('T1',_'C1',_'M4') <= 1 Integer\n",
       "0 <= Assignment_('T1',_'C2',_'M1') <= 1 Integer\n",
       "0 <= Assignment_('T1',_'C2',_'M2') <= 1 Integer\n",
       "0 <= Assignment_('T1',_'C2',_'M3') <= 1 Integer\n",
       "0 <= Assignment_('T1',_'C2',_'M4') <= 1 Integer\n",
       "0 <= Assignment_('T2',_'C1',_'M1') <= 1 Integer\n",
       "0 <= Assignment_('T2',_'C1',_'M2') <= 1 Integer\n",
       "0 <= Assignment_('T2',_'C1',_'M3') <= 1 Integer\n",
       "0 <= Assignment_('T2',_'C1',_'M4') <= 1 Integer\n",
       "0 <= Assignment_('T2',_'C2',_'M1') <= 1 Integer\n",
       "0 <= Assignment_('T2',_'C2',_'M2') <= 1 Integer\n",
       "0 <= Assignment_('T2',_'C2',_'M3') <= 1 Integer\n",
       "0 <= Assignment_('T2',_'C2',_'M4') <= 1 Integer\n",
       "0 <= Assignment_('T3',_'C1',_'M1') <= 1 Integer\n",
       "0 <= Assignment_('T3',_'C1',_'M2') <= 1 Integer\n",
       "0 <= Assignment_('T3',_'C1',_'M3') <= 1 Integer\n",
       "0 <= Assignment_('T3',_'C1',_'M4') <= 1 Integer\n",
       "0 <= Assignment_('T3',_'C2',_'M1') <= 1 Integer\n",
       "0 <= Assignment_('T3',_'C2',_'M2') <= 1 Integer\n",
       "0 <= Assignment_('T3',_'C2',_'M3') <= 1 Integer\n",
       "0 <= Assignment_('T3',_'C2',_'M4') <= 1 Integer"
      ]
     },
     "execution_count": 222,
     "metadata": {},
     "output_type": "execute_result"
    }
   ],
   "source": [
    "teacher_schedule"
   ]
  },
  {
   "cell_type": "markdown",
   "id": "869e957a-b103-4477-a356-097e38d11dba",
   "metadata": {},
   "source": [
    "## Define Objective Function"
   ]
  },
  {
   "cell_type": "code",
   "execution_count": 223,
   "id": "c2cd3c39-ef96-4e00-936a-ea56328d4fdf",
   "metadata": {
    "tags": []
   },
   "outputs": [],
   "source": [
    "# Example objective function: Minimize teacher idle time\n",
    "# Define the objective: Minimize teacher idle time while considering availability\n",
    "teacher_idle_time = pulp.lpSum((1 - x[(teacher, _class, time)]) for teacher in teachers for _class in classes for time in time_slots)\n",
    "# Add the objective function to the LP problem\n",
    "teacher_schedule += teacher_idle_time\n"
   ]
  },
  {
   "cell_type": "code",
   "execution_count": 224,
   "id": "8e2c888c-f02f-4820-a96f-dcbb3e203e86",
   "metadata": {
    "scrolled": true,
    "tags": []
   },
   "outputs": [
    {
     "data": {
      "text/plain": [
       "Teacher_Schedule:\n",
       "MINIMIZE\n",
       "-1*Assignment_('T1',_'C1',_'M1') + -1*Assignment_('T1',_'C1',_'M2') + -1*Assignment_('T1',_'C1',_'M3') + -1*Assignment_('T1',_'C1',_'M4') + -1*Assignment_('T1',_'C2',_'M1') + -1*Assignment_('T1',_'C2',_'M2') + -1*Assignment_('T1',_'C2',_'M3') + -1*Assignment_('T1',_'C2',_'M4') + -1*Assignment_('T2',_'C1',_'M1') + -1*Assignment_('T2',_'C1',_'M2') + -1*Assignment_('T2',_'C1',_'M3') + -1*Assignment_('T2',_'C1',_'M4') + -1*Assignment_('T2',_'C2',_'M1') + -1*Assignment_('T2',_'C2',_'M2') + -1*Assignment_('T2',_'C2',_'M3') + -1*Assignment_('T2',_'C2',_'M4') + -1*Assignment_('T3',_'C1',_'M1') + -1*Assignment_('T3',_'C1',_'M2') + -1*Assignment_('T3',_'C1',_'M3') + -1*Assignment_('T3',_'C1',_'M4') + -1*Assignment_('T3',_'C2',_'M1') + -1*Assignment_('T3',_'C2',_'M2') + -1*Assignment_('T3',_'C2',_'M3') + -1*Assignment_('T3',_'C2',_'M4') + 24\n",
       "SUBJECT TO\n",
       "_C1: Assignment_('T1',_'C1',_'M1') = 1\n",
       "\n",
       "_C2: Assignment_('T1',_'C2',_'M1') = 1\n",
       "\n",
       "_C3: Assignment_('T1',_'C1',_'M2') = 1\n",
       "\n",
       "_C4: Assignment_('T1',_'C2',_'M2') = 1\n",
       "\n",
       "_C5: Assignment_('T1',_'C1',_'M3') = 1\n",
       "\n",
       "_C6: Assignment_('T1',_'C2',_'M3') = 1\n",
       "\n",
       "_C7: Assignment_('T1',_'C1',_'M4') = 1\n",
       "\n",
       "_C8: Assignment_('T1',_'C2',_'M4') = 1\n",
       "\n",
       "_C9: Assignment_('T2',_'C1',_'M1') = 1\n",
       "\n",
       "_C10: Assignment_('T2',_'C2',_'M1') = 1\n",
       "\n",
       "_C11: Assignment_('T2',_'C1',_'M2') = 1\n",
       "\n",
       "_C12: Assignment_('T2',_'C2',_'M2') = 1\n",
       "\n",
       "_C13: Assignment_('T2',_'C1',_'M3') = 1\n",
       "\n",
       "_C14: Assignment_('T2',_'C2',_'M3') = 1\n",
       "\n",
       "_C15: Assignment_('T2',_'C1',_'M4') = 1\n",
       "\n",
       "_C16: Assignment_('T2',_'C2',_'M4') = 1\n",
       "\n",
       "_C17: Assignment_('T3',_'C1',_'M1') = 1\n",
       "\n",
       "_C18: Assignment_('T3',_'C2',_'M1') = 1\n",
       "\n",
       "_C19: Assignment_('T3',_'C1',_'M2') = 1\n",
       "\n",
       "_C20: Assignment_('T3',_'C2',_'M2') = 1\n",
       "\n",
       "_C21: Assignment_('T3',_'C1',_'M3') = 1\n",
       "\n",
       "_C22: Assignment_('T3',_'C2',_'M3') = 1\n",
       "\n",
       "_C23: Assignment_('T3',_'C1',_'M4') = 1\n",
       "\n",
       "_C24: Assignment_('T3',_'C2',_'M4') = 1\n",
       "\n",
       "_C25: Assignment_('T1',_'C1',_'M1') + Assignment_('T1',_'C1',_'M2')\n",
       " + Assignment_('T1',_'C1',_'M3') + Assignment_('T1',_'C1',_'M4') <= 1\n",
       "\n",
       "_C26: Assignment_('T1',_'C2',_'M1') + Assignment_('T1',_'C2',_'M2')\n",
       " + Assignment_('T1',_'C2',_'M3') + Assignment_('T1',_'C2',_'M4') <= 1\n",
       "\n",
       "_C27: Assignment_('T2',_'C1',_'M1') + Assignment_('T2',_'C1',_'M2')\n",
       " + Assignment_('T2',_'C1',_'M3') + Assignment_('T2',_'C1',_'M4') <= 1\n",
       "\n",
       "_C28: Assignment_('T2',_'C2',_'M1') + Assignment_('T2',_'C2',_'M2')\n",
       " + Assignment_('T2',_'C2',_'M3') + Assignment_('T2',_'C2',_'M4') <= 1\n",
       "\n",
       "_C29: Assignment_('T3',_'C1',_'M1') + Assignment_('T3',_'C1',_'M2')\n",
       " + Assignment_('T3',_'C1',_'M3') + Assignment_('T3',_'C1',_'M4') <= 1\n",
       "\n",
       "_C30: Assignment_('T3',_'C2',_'M1') + Assignment_('T3',_'C2',_'M2')\n",
       " + Assignment_('T3',_'C2',_'M3') + Assignment_('T3',_'C2',_'M4') <= 1\n",
       "\n",
       "_C31: Assignment_('T1',_'C1',_'M1') + Assignment_('T1',_'C2',_'M1') <= 1\n",
       "\n",
       "_C32: Assignment_('T1',_'C1',_'M2') + Assignment_('T1',_'C2',_'M2') <= 1\n",
       "\n",
       "_C33: Assignment_('T1',_'C1',_'M3') + Assignment_('T1',_'C2',_'M3') <= 1\n",
       "\n",
       "_C34: Assignment_('T1',_'C1',_'M4') + Assignment_('T1',_'C2',_'M4') <= 1\n",
       "\n",
       "_C35: Assignment_('T2',_'C1',_'M1') + Assignment_('T2',_'C2',_'M1') <= 1\n",
       "\n",
       "_C36: Assignment_('T2',_'C1',_'M2') + Assignment_('T2',_'C2',_'M2') <= 1\n",
       "\n",
       "_C37: Assignment_('T2',_'C1',_'M3') + Assignment_('T2',_'C2',_'M3') <= 1\n",
       "\n",
       "_C38: Assignment_('T2',_'C1',_'M4') + Assignment_('T2',_'C2',_'M4') <= 1\n",
       "\n",
       "_C39: Assignment_('T3',_'C1',_'M1') + Assignment_('T3',_'C2',_'M1') <= 1\n",
       "\n",
       "_C40: Assignment_('T3',_'C1',_'M2') + Assignment_('T3',_'C2',_'M2') <= 1\n",
       "\n",
       "_C41: Assignment_('T3',_'C1',_'M3') + Assignment_('T3',_'C2',_'M3') <= 1\n",
       "\n",
       "_C42: Assignment_('T3',_'C1',_'M4') + Assignment_('T3',_'C2',_'M4') <= 1\n",
       "\n",
       "VARIABLES\n",
       "0 <= Assignment_('T1',_'C1',_'M1') <= 1 Integer\n",
       "0 <= Assignment_('T1',_'C1',_'M2') <= 1 Integer\n",
       "0 <= Assignment_('T1',_'C1',_'M3') <= 1 Integer\n",
       "0 <= Assignment_('T1',_'C1',_'M4') <= 1 Integer\n",
       "0 <= Assignment_('T1',_'C2',_'M1') <= 1 Integer\n",
       "0 <= Assignment_('T1',_'C2',_'M2') <= 1 Integer\n",
       "0 <= Assignment_('T1',_'C2',_'M3') <= 1 Integer\n",
       "0 <= Assignment_('T1',_'C2',_'M4') <= 1 Integer\n",
       "0 <= Assignment_('T2',_'C1',_'M1') <= 1 Integer\n",
       "0 <= Assignment_('T2',_'C1',_'M2') <= 1 Integer\n",
       "0 <= Assignment_('T2',_'C1',_'M3') <= 1 Integer\n",
       "0 <= Assignment_('T2',_'C1',_'M4') <= 1 Integer\n",
       "0 <= Assignment_('T2',_'C2',_'M1') <= 1 Integer\n",
       "0 <= Assignment_('T2',_'C2',_'M2') <= 1 Integer\n",
       "0 <= Assignment_('T2',_'C2',_'M3') <= 1 Integer\n",
       "0 <= Assignment_('T2',_'C2',_'M4') <= 1 Integer\n",
       "0 <= Assignment_('T3',_'C1',_'M1') <= 1 Integer\n",
       "0 <= Assignment_('T3',_'C1',_'M2') <= 1 Integer\n",
       "0 <= Assignment_('T3',_'C1',_'M3') <= 1 Integer\n",
       "0 <= Assignment_('T3',_'C1',_'M4') <= 1 Integer\n",
       "0 <= Assignment_('T3',_'C2',_'M1') <= 1 Integer\n",
       "0 <= Assignment_('T3',_'C2',_'M2') <= 1 Integer\n",
       "0 <= Assignment_('T3',_'C2',_'M3') <= 1 Integer\n",
       "0 <= Assignment_('T3',_'C2',_'M4') <= 1 Integer"
      ]
     },
     "execution_count": 224,
     "metadata": {},
     "output_type": "execute_result"
    }
   ],
   "source": [
    "teacher_schedule"
   ]
  },
  {
   "cell_type": "code",
   "execution_count": 225,
   "id": "c1f9f4d2-7921-4b11-a012-150dc9713aa7",
   "metadata": {
    "tags": []
   },
   "outputs": [
    {
     "name": "stdout",
     "output_type": "stream",
     "text": [
      "Welcome to the CBC MILP Solver \n",
      "Version: 2.10.3 \n",
      "Build Date: Dec 15 2019 \n",
      "\n",
      "command line - /Users/sashlinreddy/mambaforge/envs/optimization/lib/python3.9/site-packages/pulp/solverdir/cbc/osx/64/cbc /var/folders/qk/w6lvkswx5vnfvj7zlfl28zqm0000gn/T/6ff92f45c9fb4e6e9f4c14f2f168e7c5-pulp.mps timeMode elapsed branch printingOptions all solution /var/folders/qk/w6lvkswx5vnfvj7zlfl28zqm0000gn/T/6ff92f45c9fb4e6e9f4c14f2f168e7c5-pulp.sol (default strategy 1)\n",
      "At line 2 NAME          MODEL\n",
      "At line 3 ROWS\n",
      "At line 47 COLUMNS\n",
      "At line 192 RHS\n",
      "At line 235 BOUNDS\n",
      "At line 260 ENDATA\n",
      "Problem MODEL has 42 rows, 24 columns and 72 elements\n",
      "Coin0008I MODEL read with 0 errors\n",
      "Option for timeMode changed from cpu to elapsed\n",
      "Problem is infeasible - 0.00 seconds\n",
      "Option for printingOptions changed from normal to all\n",
      "Total time (CPU seconds):       0.00   (Wallclock seconds):       0.00\n",
      "\n"
     ]
    },
    {
     "data": {
      "text/plain": [
       "-1"
      ]
     },
     "execution_count": 225,
     "metadata": {},
     "output_type": "execute_result"
    }
   ],
   "source": [
    "# Solve the optimization model\n",
    "# Currently having all 3 constraints displays problem infeasible. This is still a work in progress\n",
    "teacher_schedule.solve()"
   ]
  },
  {
   "cell_type": "code",
   "execution_count": 205,
   "id": "3d6e11dd-cc29-44bb-ac83-8359a0d3ca2a",
   "metadata": {
    "tags": []
   },
   "outputs": [
    {
     "name": "stdout",
     "output_type": "stream",
     "text": [
      "Optimal solution found\n",
      "Teacher T1 is assigned to Class C1 at Time Slot M1\n",
      "Teacher T1 is assigned to Class C1 at Time Slot M2\n",
      "Teacher T1 is assigned to Class C1 at Time Slot M3\n",
      "Teacher T1 is assigned to Class C1 at Time Slot M4\n",
      "Teacher T1 is assigned to Class C2 at Time Slot M1\n",
      "Teacher T1 is assigned to Class C2 at Time Slot M2\n",
      "Teacher T1 is assigned to Class C2 at Time Slot M3\n",
      "Teacher T1 is assigned to Class C2 at Time Slot M4\n",
      "Teacher T2 is assigned to Class C1 at Time Slot M1\n",
      "Teacher T2 is assigned to Class C1 at Time Slot M2\n",
      "Teacher T2 is assigned to Class C1 at Time Slot M3\n",
      "Teacher T2 is assigned to Class C1 at Time Slot M4\n",
      "Teacher T2 is assigned to Class C2 at Time Slot M1\n",
      "Teacher T2 is assigned to Class C2 at Time Slot M2\n",
      "Teacher T2 is assigned to Class C2 at Time Slot M3\n",
      "Teacher T2 is assigned to Class C2 at Time Slot M4\n",
      "Teacher T3 is assigned to Class C1 at Time Slot M1\n",
      "Teacher T3 is assigned to Class C1 at Time Slot M2\n",
      "Teacher T3 is assigned to Class C1 at Time Slot M3\n",
      "Teacher T3 is assigned to Class C1 at Time Slot M4\n",
      "Teacher T3 is assigned to Class C2 at Time Slot M1\n",
      "Teacher T3 is assigned to Class C2 at Time Slot M2\n",
      "Teacher T3 is assigned to Class C2 at Time Slot M3\n",
      "Teacher T3 is assigned to Class C2 at Time Slot M4\n"
     ]
    }
   ],
   "source": [
    "# Check the status of the solution\n",
    "if pulp.LpStatus[teacher_schedule.status] == \"Optimal\":\n",
    "    print(\"Optimal solution found\")\n",
    "    # Extract and use the results\n",
    "    for teacher in teachers:\n",
    "        for _class in classes:\n",
    "            for time in time_slots:\n",
    "                if pulp.value(x[(teacher, _class, time)]) == 1:\n",
    "                    print(f\"Teacher {teacher} is assigned to Class {_class} at Time Slot {time}\")\n",
    "else:\n",
    "    print(\"No optimal solution found. Check your constraints and objectives.\")"
   ]
  },
  {
   "cell_type": "code",
   "execution_count": null,
   "id": "402998f1-2034-4b94-b003-19e38cc8eb71",
   "metadata": {},
   "outputs": [],
   "source": []
  }
 ],
 "metadata": {
  "kernelspec": {
   "display_name": "Python [conda env:optimization]",
   "language": "python",
   "name": "conda-env-optimization-py"
  },
  "language_info": {
   "codemirror_mode": {
    "name": "ipython",
    "version": 3
   },
   "file_extension": ".py",
   "mimetype": "text/x-python",
   "name": "python",
   "nbconvert_exporter": "python",
   "pygments_lexer": "ipython3",
   "version": "3.9.15"
  }
 },
 "nbformat": 4,
 "nbformat_minor": 5
}
